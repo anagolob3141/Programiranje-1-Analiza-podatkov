{
 "cells": [
  {
   "cell_type": "code",
   "execution_count": 5,
   "metadata": {
    "collapsed": false
   },
   "outputs": [],
   "source": [
    "%run GUIanaliza.py\n",
    "%run velikaMestaEvrope.py\n",
    "import pandas as pd\n",
    "import matplotlib.pyplot as plt"
   ]
  },
  {
   "cell_type": "markdown",
   "metadata": {},
   "source": [
    "# Analiza izbrane države\n",
    "#### PROJEKTNA NALOGA PRI PROGRAMIRANJU 1\n",
    "Podatki so bili zajeti iz sledečih spletnih strani:\n",
    "http://www.weatherbase.com/\n",
    "država, mesto,  id, povprečne temperature po posameznih mesecih;\n",
    "http://www.weatherbase.com/weather/country.php3?r=EUR&regionname=Europe:\n",
    " seznam Evropskih držav z njihovimi prestolnicami (v drugem delu).\n",
    "\n",
    "V prvem delu analize mora uporabnik sam izbrati državo, ki jo želi analizirati. Nato vnese še izbrani mesec in temperaturo. S tem programom nato lahko poišče mesto, ki ima v izbranem mesecu temperaturo najbližjo vnešeni.\n",
    "Najprej prosim zaženi spodnjo funkcijo:"
   ]
  },
  {
   "cell_type": "code",
   "execution_count": 6,
   "metadata": {
    "collapsed": false
   },
   "outputs": [
    {
     "name": "stdout",
     "output_type": "stream",
     "text": [
      "[['Andorra La Vella', 'Andorra', '342955', '32.4,33.8,37.4,41.4,48.4,55.4,61.5,60.8,56.3,48.2,38.7,33.8']]\n",
      "\n",
      "    izbrana drzava: Andorra \n",
      "\n",
      "    izbrani mesec: januar \n",
      "\n",
      "    izbrana temperatura: 14°C \n",
      "\n",
      "    \n"
     ]
    }
   ],
   "source": [
    "izbrani_mesec, ime_datotekeOsn, ime_datotekeRaz = zazeni_analizaGUI()"
   ]
  },
  {
   "cell_type": "code",
   "execution_count": null,
   "metadata": {
    "collapsed": false
   },
   "outputs": [],
   "source": [
    "osnovni_df = pd.read_csv(ime_datotekeOsn, encoding='latin1')\n",
    "razlikaTemperatur_df = pd.read_csv(ime_datotekeRaz, encoding='latin1')\n",
    "priporoceni_df = pd.read_csv(\"priporoceni.txt\", encoding='latin1')"
   ]
  },
  {
   "cell_type": "code",
   "execution_count": 43,
   "metadata": {
    "collapsed": false
   },
   "outputs": [
    {
     "data": {
      "text/html": [
       "<div>\n",
       "<table border=\"1\" class=\"dataframe\">\n",
       "  <thead>\n",
       "    <tr style=\"text-align: right;\">\n",
       "      <th></th>\n",
       "      <th>MESTO</th>\n",
       "      <th>Drzava</th>\n",
       "      <th>sifra</th>\n",
       "      <th>januar</th>\n",
       "      <th>februar</th>\n",
       "      <th>marec</th>\n",
       "      <th>april</th>\n",
       "      <th>maj</th>\n",
       "      <th>juni</th>\n",
       "      <th>juli</th>\n",
       "      <th>avgust</th>\n",
       "      <th>september</th>\n",
       "      <th>oktober</th>\n",
       "      <th>november</th>\n",
       "      <th>december</th>\n",
       "      <th>LETNO POVPRECJE</th>\n",
       "      <th>razlika od vnosa</th>\n",
       "    </tr>\n",
       "  </thead>\n",
       "  <tbody>\n",
       "    <tr>\n",
       "      <th>0</th>\n",
       "      <td>Andorra La Vella</td>\n",
       "      <td>Andorra</td>\n",
       "      <td>342955</td>\n",
       "      <td>0.2</td>\n",
       "      <td>1.0</td>\n",
       "      <td>3.0</td>\n",
       "      <td>5.2</td>\n",
       "      <td>9.1</td>\n",
       "      <td>13.0</td>\n",
       "      <td>16.4</td>\n",
       "      <td>16.0</td>\n",
       "      <td>13.5</td>\n",
       "      <td>9.0</td>\n",
       "      <td>3.7</td>\n",
       "      <td>1.0</td>\n",
       "      <td>7.0</td>\n",
       "      <td>11.8</td>\n",
       "    </tr>\n",
       "    <tr>\n",
       "      <th>1</th>\n",
       "      <td>Soldeu</td>\n",
       "      <td>Andorra</td>\n",
       "      <td>592658</td>\n",
       "      <td>-2.8</td>\n",
       "      <td>-2.8</td>\n",
       "      <td>-1.1</td>\n",
       "      <td>0.6</td>\n",
       "      <td>5.0</td>\n",
       "      <td>8.9</td>\n",
       "      <td>12.2</td>\n",
       "      <td>11.7</td>\n",
       "      <td>9.4</td>\n",
       "      <td>5.0</td>\n",
       "      <td>0.6</td>\n",
       "      <td>-2.2</td>\n",
       "      <td>3.0</td>\n",
       "      <td>9.2</td>\n",
       "    </tr>\n",
       "  </tbody>\n",
       "</table>\n",
       "</div>"
      ],
      "text/plain": [
       "              MESTO   Drzava   sifra  januar  februar  marec  april  maj  \\\n",
       "0  Andorra La Vella  Andorra  342955     0.2      1.0    3.0    5.2  9.1   \n",
       "1            Soldeu  Andorra  592658    -2.8     -2.8   -1.1    0.6  5.0   \n",
       "\n",
       "   juni  juli  avgust  september  oktober  november  december  \\\n",
       "0  13.0  16.4    16.0       13.5      9.0       3.7       1.0   \n",
       "1   8.9  12.2    11.7        9.4      5.0       0.6      -2.2   \n",
       "\n",
       "    LETNO POVPRECJE   razlika od vnosa  \n",
       "0               7.0               11.8  \n",
       "1               3.0                9.2  "
      ]
     },
     "execution_count": 43,
     "metadata": {},
     "output_type": "execute_result"
    }
   ],
   "source": [
    "osnovni_df[:]"
   ]
  },
  {
   "cell_type": "code",
   "execution_count": null,
   "metadata": {
    "collapsed": true
   },
   "outputs": [],
   "source": [
    "mesec_df = razlikaTemperatur_df[['MESTO', 'LETNO POVPRECJE', 'razlika od vnosa']]\n",
    "\n",
    "\n",
    "\n",
    "#drzave50 = naj50[['leto', 'mesto', 'ime_tekmovalca', 'država']]\n",
    "#ekipe50 = naj50[['leto', 'mesto', 'ime_tekmovalca', 'ekipa']]\n",
    "\n",
    "#drzave10 = drzave50[drzave50.mesto <= 10]\n",
    "#ekipe10 = ekipe50[ekipe50.mesto <= 10]\n",
    "\n",
    "#p1 = pd.DataFrame(drzave10['država'].value_counts()[:10])\n",
    "#p1.columns = ['št uvrstitev med prvih 10']\n",
    "#p1"
   ]
  }
 ],
 "metadata": {
  "anaconda-cloud": {},
  "kernelspec": {
   "display_name": "Python [conda root]",
   "language": "python",
   "name": "conda-root-py"
  },
  "language_info": {
   "codemirror_mode": {
    "name": "ipython",
    "version": 3
   },
   "file_extension": ".py",
   "mimetype": "text/x-python",
   "name": "python",
   "nbconvert_exporter": "python",
   "pygments_lexer": "ipython3",
   "version": "3.5.2"
  }
 },
 "nbformat": 4,
 "nbformat_minor": 1
}
